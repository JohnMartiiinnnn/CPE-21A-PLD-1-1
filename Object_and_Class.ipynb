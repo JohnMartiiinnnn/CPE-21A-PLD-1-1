{
  "nbformat": 4,
  "nbformat_minor": 0,
  "metadata": {
    "colab": {
      "provenance": [],
      "authorship_tag": "ABX9TyNNXOQX+v4w5ITXXFEKAgOa",
      "include_colab_link": true
    },
    "kernelspec": {
      "name": "python3",
      "display_name": "Python 3"
    },
    "language_info": {
      "name": "python"
    }
  },
  "cells": [
    {
      "cell_type": "markdown",
      "metadata": {
        "id": "view-in-github",
        "colab_type": "text"
      },
      "source": [
        "<a href=\"https://colab.research.google.com/github/JohnMartiiinnnn/CPE-21A-PLD-1-1/blob/main/Object_and_Class.ipynb\" target=\"_parent\"><img src=\"https://colab.research.google.com/assets/colab-badge.svg\" alt=\"Open In Colab\"/></a>"
      ]
    },
    {
      "cell_type": "code",
      "execution_count": 6,
      "metadata": {
        "colab": {
          "base_uri": "https://localhost:8080/"
        },
        "id": "00E0wkPIyToD",
        "outputId": "44c13914-6320-416a-8e9d-12c1cf9b3f7c"
      },
      "outputs": [
        {
          "output_type": "stream",
          "name": "stdout",
          "text": [
            "My name is Martin\n",
            "My age is 18\n",
            "Vins\n",
            "19\n"
          ]
        }
      ],
      "source": [
        "#Creating Class and Object\n",
        "\n",
        "class Person:\n",
        "  def __init__(self,name,age):\n",
        "    self.name = name\n",
        "    self.age = age\n",
        "\n",
        "person = Person(\"Martin\", 18)\n",
        "print(\"My name is\", person.name)\n",
        "print(\"My age is\", person.age)\n",
        "\n",
        "class Student(Person):\n",
        "  pass\n",
        "\n",
        "person2 = Student (\"Vins\", 19)\n",
        "print(person2.name)\n",
        "print(person2.age)"
      ]
    },
    {
      "cell_type": "code",
      "source": [
        "class shape:\n",
        "  def __init__(self, area, perimeter):\n",
        "    self.area = area\n",
        "    self.perimeter = perimeter\n",
        "\n",
        "  def shape(square):\n",
        "    print(\"The area of this square is\", square.area )\n",
        "    print(\"The perimeter or this sqaure is\", square.perimeter)\n",
        "\n",
        "square = shape(25,20)\n",
        "square.shape()"
      ],
      "metadata": {
        "colab": {
          "base_uri": "https://localhost:8080/"
        },
        "id": "aqOyqyv8qGkB",
        "outputId": "0e725bc4-9c18-4816-f481-37dc558a09aa"
      },
      "execution_count": 17,
      "outputs": [
        {
          "output_type": "stream",
          "name": "stdout",
          "text": [
            "The area of this square is 25\n",
            "The perimeter or this sqaure is 20\n"
          ]
        }
      ]
    }
  ]
}