{
  "nbformat": 4,
  "nbformat_minor": 0,
  "metadata": {
    "colab": {
      "provenance": [],
      "authorship_tag": "ABX9TyO4aaCHPT8qbNjr9ZDT1oun",
      "include_colab_link": true
    },
    "kernelspec": {
      "name": "python3",
      "display_name": "Python 3"
    },
    "language_info": {
      "name": "python"
    }
  },
  "cells": [
    {
      "cell_type": "markdown",
      "metadata": {
        "id": "view-in-github",
        "colab_type": "text"
      },
      "source": [
        "<a href=\"https://colab.research.google.com/github/JohnMartiiinnnn/CPE-21A-PLD-1-1/blob/main/Lab_Activity_1.ipynb\" target=\"_parent\"><img src=\"https://colab.research.google.com/assets/colab-badge.svg\" alt=\"Open In Colab\"/></a>"
      ]
    },
    {
      "cell_type": "code",
      "execution_count": 63,
      "metadata": {
        "colab": {
          "base_uri": "https://localhost:8080/"
        },
        "id": "HePI-a6nRrnW",
        "outputId": "f61452ca-b579-49ae-e098-a43cb3e100ed"
      },
      "outputs": [
        {
          "output_type": "stream",
          "name": "stdout",
          "text": [
            "sum = 210\n",
            "average = 10.5\n"
          ]
        }
      ],
      "source": [
        "#Problem 1\n",
        "\n",
        "n = 20\n",
        "totalnumbers = n\n",
        "sum = 0\n",
        "average = 0\n",
        "while n>0:\n",
        "  sum+=n\n",
        "  n-=1\n",
        "\n",
        "print(\"sum =\", sum)\n",
        "\n",
        "average = sum/20\n",
        "print(\"average =\", average)"
      ]
    },
    {
      "cell_type": "code",
      "source": [
        "#Problem 2\n",
        "\n",
        "class Student:\n",
        "  def __init__(self, Name, Student_No, Age, School, Course):\n",
        "    self.Name = Name\n",
        "    self.Student_No = Student_No\n",
        "    self.Age = Age\n",
        "    self.School = School\n",
        "    self.Course = Course\n",
        "\n",
        "myself = Student('John Martin Perez Ejercitado', 202201059, 18, \"Cavite State University - Main Campus\", \"BS Computer Engineering\")\n",
        "print(\"I am\", myself.Name)\n",
        "print(\"My student number is\", myself.Student_No)\n",
        "print(\"I am\", myself.Age, \"years old\")\n",
        "print(\"I study in\", myself.School)\n",
        "print(\"Taking the course\", myself.Course)\n",
        "\n"
      ],
      "metadata": {
        "colab": {
          "base_uri": "https://localhost:8080/"
        },
        "id": "nQrFoUMoSQ_K",
        "outputId": "5a1988c9-2fde-4347-a084-439bbc28bb3e"
      },
      "execution_count": 64,
      "outputs": [
        {
          "output_type": "stream",
          "name": "stdout",
          "text": [
            "I am John Martin Perez Ejercitado\n",
            "My student number is 202201059\n",
            "I am 18 years old\n",
            "I study in Cavite State University - Main Campus\n",
            "Taking the course BS Computer Engineering\n"
          ]
        }
      ]
    }
  ]
}