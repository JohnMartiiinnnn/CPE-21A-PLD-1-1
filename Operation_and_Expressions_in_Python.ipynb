{
  "nbformat": 4,
  "nbformat_minor": 0,
  "metadata": {
    "colab": {
      "provenance": [],
      "authorship_tag": "ABX9TyM+K7P1acX7u6GfvPI1d2qr",
      "include_colab_link": true
    },
    "kernelspec": {
      "name": "python3",
      "display_name": "Python 3"
    },
    "language_info": {
      "name": "python"
    }
  },
  "cells": [
    {
      "cell_type": "markdown",
      "metadata": {
        "id": "view-in-github",
        "colab_type": "text"
      },
      "source": [
        "<a href=\"https://colab.research.google.com/github/JohnMartiiinnnn/CPE-21A-PLD-1-1/blob/main/Operation_and_Expressions_in_Python.ipynb\" target=\"_parent\"><img src=\"https://colab.research.google.com/assets/colab-badge.svg\" alt=\"Open In Colab\"/></a>"
      ]
    },
    {
      "cell_type": "markdown",
      "source": [
        "####Boolean Operators"
      ],
      "metadata": {
        "id": "iPRfDbq14Gdd"
      }
    },
    {
      "cell_type": "code",
      "source": [
        "a=13\n",
        "b=7\n",
        "c=20\n",
        "\n",
        "a = print(a>b)\n",
        "b = print(b==a)\n"
      ],
      "metadata": {
        "colab": {
          "base_uri": "https://localhost:8080/"
        },
        "id": "Fg2BByr34cBV",
        "outputId": "5ba0a3da-83ec-4fdd-bd45-efdf0aaeed48"
      },
      "execution_count": null,
      "outputs": [
        {
          "output_type": "stream",
          "name": "stdout",
          "text": [
            "True\n",
            "False\n"
          ]
        }
      ]
    },
    {
      "cell_type": "code",
      "source": [
        "print(bool(\"Hello\"))\n",
        "print(bool(13))\n",
        "print(bool(True))\n",
        "print(bool(False))\n",
        "print(bool(13))\n",
        "print(bool(0))\n",
        "print(bool(None))\n",
        "print(bool([]))"
      ],
      "metadata": {
        "colab": {
          "base_uri": "https://localhost:8080/"
        },
        "id": "IjdfdNrD6gRc",
        "outputId": "5f289e5c-2476-4a35-c1e2-d2f7a1e34690"
      },
      "execution_count": 1,
      "outputs": [
        {
          "output_type": "stream",
          "name": "stdout",
          "text": [
            "True\n",
            "True\n",
            "True\n",
            "False\n",
            "True\n",
            "False\n",
            "False\n",
            "False\n"
          ]
        }
      ]
    },
    {
      "cell_type": "code",
      "source": [
        "def myfunction(): return True\n",
        "print(myfunction())"
      ],
      "metadata": {
        "colab": {
          "base_uri": "https://localhost:8080/"
        },
        "id": "zLjppB0o4x5r",
        "outputId": "cf22e5f2-a506-4bdf-efd0-bd403d3dfad3"
      },
      "execution_count": 3,
      "outputs": [
        {
          "output_type": "stream",
          "name": "stdout",
          "text": [
            "True\n"
          ]
        }
      ]
    },
    {
      "cell_type": "code",
      "source": [
        "def myfunction(): return True\n",
        "if myfunction():\n",
        "  print(\"true\")\n",
        "else:\n",
        "  print(\"false\")"
      ],
      "metadata": {
        "colab": {
          "base_uri": "https://localhost:8080/"
        },
        "id": "R2kps81x5Tr5",
        "outputId": "7745d1a1-bd3a-47cd-9434-e424f1d27777"
      },
      "execution_count": 7,
      "outputs": [
        {
          "output_type": "stream",
          "name": "stdout",
          "text": [
            "true\n"
          ]
        }
      ]
    },
    {
      "cell_type": "code",
      "source": [
        "print (10>9)\n",
        "a= 6 # 0000 0110\n",
        "b= 7 # 0000 0111\n",
        "print(a==b)\n",
        "print(a==a)\n",
        "print(a!=b)"
      ],
      "metadata": {
        "colab": {
          "base_uri": "https://localhost:8080/"
        },
        "id": "x1CsS64C6REP",
        "outputId": "e3e626f3-49c9-49fa-fee6-b685be8cb90d"
      },
      "execution_count": 9,
      "outputs": [
        {
          "output_type": "stream",
          "name": "stdout",
          "text": [
            "True\n",
            "False\n",
            "True\n",
            "True\n"
          ]
        }
      ]
    },
    {
      "cell_type": "markdown",
      "source": [
        "###Python Operators"
      ],
      "metadata": {
        "id": "IZc3bBx_75Ti"
      }
    },
    {
      "cell_type": "code",
      "source": [
        "print(19+7)\n",
        "print(89-9)\n",
        "print(10*5)\n",
        "print(25/3)\n",
        "print(25%3)\n",
        "print(25//3)\n",
        "print(5**2)"
      ],
      "metadata": {
        "colab": {
          "base_uri": "https://localhost:8080/"
        },
        "id": "hB9y3zxd7_PP",
        "outputId": "96a4af39-89b5-4ca3-d3b9-6c1cccc726ea"
      },
      "execution_count": 18,
      "outputs": [
        {
          "output_type": "stream",
          "name": "stdout",
          "text": [
            "26\n",
            "80\n",
            "50\n",
            "8.333333333333334\n",
            "1\n",
            "8\n",
            "25\n"
          ]
        }
      ]
    },
    {
      "cell_type": "markdown",
      "source": [
        "###Pyhton Bitwise Operators"
      ],
      "metadata": {
        "id": "HrGY28Ts9cDI"
      }
    },
    {
      "cell_type": "code",
      "source": [
        "a=60 # 0011 1100\n",
        "b=13\n",
        "\n",
        "print(a^b)\n",
        "print(~a)\n",
        "print(a<<2)\n",
        "print(a>>2) #0000 1111"
      ],
      "metadata": {
        "colab": {
          "base_uri": "https://localhost:8080/"
        },
        "id": "08Phk-Sw9gT5",
        "outputId": "b55d8fbb-f31e-4f8c-84af-65901ea07bba"
      },
      "execution_count": 21,
      "outputs": [
        {
          "output_type": "stream",
          "name": "stdout",
          "text": [
            "49\n",
            "-61\n",
            "240\n",
            "15\n"
          ]
        }
      ]
    },
    {
      "cell_type": "markdown",
      "source": [
        "###Assignment Operators"
      ],
      "metadata": {
        "id": "XwQFvc0VCBHk"
      }
    },
    {
      "cell_type": "code",
      "source": [
        "x = 2\n",
        "x+=3\n",
        "print(x)\n",
        "\n",
        "x"
      ],
      "metadata": {
        "colab": {
          "base_uri": "https://localhost:8080/"
        },
        "id": "rM6rhIrCCEuq",
        "outputId": "035de000-fd0b-4aff-e7b6-e047fdd25f90"
      },
      "execution_count": 23,
      "outputs": [
        {
          "output_type": "stream",
          "name": "stdout",
          "text": [
            "5\n"
          ]
        },
        {
          "output_type": "execute_result",
          "data": {
            "text/plain": [
              "5"
            ]
          },
          "metadata": {},
          "execution_count": 23
        }
      ]
    },
    {
      "cell_type": "markdown",
      "source": [
        "###Logical Operators"
      ],
      "metadata": {
        "id": "Qn_dKhHOC4ES"
      }
    },
    {
      "cell_type": "code",
      "source": [
        "a = 5\n",
        "b = 6\n",
        "\n",
        "print(a>b and a==a)\n",
        "print(a<b or b==a)"
      ],
      "metadata": {
        "colab": {
          "base_uri": "https://localhost:8080/"
        },
        "id": "RAq12K4YC6bq",
        "outputId": "bf20e67b-d503-4583-8766-e3a5b005b6e0"
      },
      "execution_count": 30,
      "outputs": [
        {
          "output_type": "stream",
          "name": "stdout",
          "text": [
            "False\n",
            "True\n"
          ]
        }
      ]
    },
    {
      "cell_type": "markdown",
      "source": [
        "\n",
        "###Identity Operator"
      ],
      "metadata": {
        "id": "mF3X-TKGDyxA"
      }
    },
    {
      "cell_type": "code",
      "source": [
        "print(a is b)\n",
        "print(a is not b)"
      ],
      "metadata": {
        "colab": {
          "base_uri": "https://localhost:8080/"
        },
        "id": "9zjO4bZvD17j",
        "outputId": "23609ccc-47a6-4343-d44b-8abfb7a69427"
      },
      "execution_count": 33,
      "outputs": [
        {
          "output_type": "stream",
          "name": "stdout",
          "text": [
            "False\n"
          ]
        },
        {
          "output_type": "execute_result",
          "data": {
            "text/plain": [
              "True"
            ]
          },
          "metadata": {},
          "execution_count": 33
        }
      ]
    }
  ]
}