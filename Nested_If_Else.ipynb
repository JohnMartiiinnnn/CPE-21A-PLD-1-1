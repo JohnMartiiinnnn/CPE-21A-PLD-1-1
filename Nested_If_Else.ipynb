{
  "nbformat": 4,
  "nbformat_minor": 0,
  "metadata": {
    "colab": {
      "provenance": [],
      "authorship_tag": "ABX9TyNnNTyAEeUC6jANWtNinRax",
      "include_colab_link": true
    },
    "kernelspec": {
      "name": "python3",
      "display_name": "Python 3"
    },
    "language_info": {
      "name": "python"
    }
  },
  "cells": [
    {
      "cell_type": "markdown",
      "metadata": {
        "id": "view-in-github",
        "colab_type": "text"
      },
      "source": [
        "<a href=\"https://colab.research.google.com/github/JohnMartiiinnnn/CPE-21A-PLD-1-1/blob/main/Nested_If_Else.ipynb\" target=\"_parent\"><img src=\"https://colab.research.google.com/assets/colab-badge.svg\" alt=\"Open In Colab\"/></a>"
      ]
    },
    {
      "cell_type": "markdown",
      "source": [
        "###Example 1"
      ],
      "metadata": {
        "id": "wRVocIhY6V1Y"
      }
    },
    {
      "cell_type": "code",
      "execution_count": 145,
      "metadata": {
        "colab": {
          "base_uri": "https://localhost:8080/"
        },
        "outputId": "b384c152-ef0f-4991-9049-c273cc01f39a",
        "id": "VAxAJwy2Irgl"
      },
      "outputs": [
        {
          "output_type": "stream",
          "name": "stdout",
          "text": [
            "Vote Checker\n",
            "\n",
            "Enter your name : John Martin Ejercitado\n",
            "\n",
            "Hello, John Martin Ejercitado\n",
            "\n",
            "Enter your age: 18\n",
            "\n",
            "You are qualified to vote!\n"
          ]
        }
      ],
      "source": [
        "print(\"Vote Checker\\n\")\n",
        "Name = input(\"Enter your name : \")\n",
        "print('\\nHello, ' + Name)\n",
        "age = int(input(\"\\nEnter your age: \"))\n",
        "if age>=18:\n",
        "  print(\"\\nYou are qualified to vote!\")\n",
        "else:\n",
        "  print(\"\\nYou are NOT YET qualified to vote.\")"
      ]
    },
    {
      "cell_type": "markdown",
      "source": [
        "###Example 2"
      ],
      "metadata": {
        "id": "2rDl2YBdJa79"
      }
    },
    {
      "cell_type": "code",
      "source": [
        "print(\"Positive or Negative?\\n\")\n",
        "num = int(input(\"Please enter a number\\n\"))\n",
        "if num >= 0:\n",
        "  print(\"\\nThe number you entered is a POSITIVE\")\n",
        "else:\n",
        "  print(\"\\nThe number you entered is a NEGATIVE\")"
      ],
      "metadata": {
        "colab": {
          "base_uri": "https://localhost:8080/"
        },
        "id": "mmbP-IqPJenS",
        "outputId": "9bfa87be-3c1a-4f4d-de52-d099ac76c302"
      },
      "execution_count": 146,
      "outputs": [
        {
          "output_type": "stream",
          "name": "stdout",
          "text": [
            "Positive or Negative?\n",
            "\n",
            "Please enter a number\n",
            "98\n",
            "\n",
            "The number you entered is a POSITIVE\n"
          ]
        }
      ]
    },
    {
      "cell_type": "markdown",
      "source": [
        "###Example 3"
      ],
      "metadata": {
        "id": "nnFGMxIYLyLt"
      }
    },
    {
      "cell_type": "code",
      "source": [
        "print(\"Grade checker\\n\")\n",
        "Name = input(\"Enter your name : \")\n",
        "print('\\nHello, ' + Name)\n",
        "\n",
        "grd = int(input(\"\\nPlease enter your grade:\\n\"))\n",
        "if grd >= 75:\n",
        "    print('\\nCongatulations, you are PASSED!!')\n",
        "if grd == 74:\n",
        "    print('\\nUnfortunately you have to undergo REMEDIAL!!')\n",
        "elif grd < 0:\n",
        "  print('\\nINVALID INPUT')\n",
        "else:\n",
        "  print('\\nSorry but you are FAILED!')"
      ],
      "metadata": {
        "colab": {
          "base_uri": "https://localhost:8080/"
        },
        "id": "oeEuAivgL4Eb",
        "outputId": "4e04757e-6c30-4beb-c1c5-9789c6d9a81b"
      },
      "execution_count": null,
      "outputs": [
        {
          "output_type": "stream",
          "name": "stdout",
          "text": [
            "Grade checker\n",
            "\n"
          ]
        }
      ]
    }
  ]
}