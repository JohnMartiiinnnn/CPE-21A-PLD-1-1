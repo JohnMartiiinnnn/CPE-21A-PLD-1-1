{
  "nbformat": 4,
  "nbformat_minor": 0,
  "metadata": {
    "colab": {
      "provenance": [],
      "authorship_tag": "ABX9TyOxFEpQNTeyg/EsnRkkzAuM",
      "include_colab_link": true
    },
    "kernelspec": {
      "name": "python3",
      "display_name": "Python 3"
    },
    "language_info": {
      "name": "python"
    }
  },
  "cells": [
    {
      "cell_type": "markdown",
      "metadata": {
        "id": "view-in-github",
        "colab_type": "text"
      },
      "source": [
        "<a href=\"https://colab.research.google.com/github/JohnMartiiinnnn/CPE-21A-PLD-1-1/blob/main/Python_List%2C_Tuples%2C_Sets%2C_and_Dictionaries.ipynb\" target=\"_parent\"><img src=\"https://colab.research.google.com/assets/colab-badge.svg\" alt=\"Open In Colab\"/></a>"
      ]
    },
    {
      "cell_type": "code",
      "execution_count": 31,
      "metadata": {
        "id": "w4ewAv6QGA5Z",
        "colab": {
          "base_uri": "https://localhost:8080/"
        },
        "outputId": "ea402bfe-1fe8-42fc-de3a-d291ad822784"
      },
      "outputs": [
        {
          "output_type": "stream",
          "name": "stdout",
          "text": [
            "v\n",
            "kahel\n",
            "The length of this list is 7\n",
            "martin\n",
            "The length of this list is 6\n"
          ]
        }
      ],
      "source": [
        "#List\n",
        "\n",
        "pi = 3.14159\n",
        "varlist = [9, 6, 'v', 'e', 'martin', pi]\n",
        "print(varlist[2])\n",
        "\n",
        "varlist.append('kahel') #insert\n",
        "print(varlist[6])\n",
        "\n",
        "len(varlist)\n",
        "print(\"The length of this list is\", len(varlist))\n",
        "\n",
        "varlist.remove(pi) #remove\n",
        "print(varlist[4])\n",
        "\n",
        "print(\"The length of this list is\", len(varlist))"
      ]
    },
    {
      "cell_type": "code",
      "source": [
        "#Dictionaries\n",
        "\n",
        "var1 = \"Good Evening\"\n",
        "var2 = \"Good Morning\"\n",
        "vardict = {'1st': \"Hello\", 'greet1': var1, 'greet2': var2, 2 : 143, 'group': ['12','34']}\n",
        "print(vardict['1st'])\n",
        "print(vardict['greet1'])\n",
        "print(vardict['greet2'])\n",
        "print(vardict['group'])\n",
        "print(vardict['group'][1])\n",
        "\n",
        "len(vardict)\n",
        "print(\"This dictionary contains\", len(vardict), \"values.\")"
      ],
      "metadata": {
        "colab": {
          "base_uri": "https://localhost:8080/"
        },
        "id": "sI97NOFOVkcQ",
        "outputId": "6e7dbfb3-97ed-43f0-89b4-d797743979c1"
      },
      "execution_count": 36,
      "outputs": [
        {
          "output_type": "stream",
          "name": "stdout",
          "text": [
            "Hello\n",
            "Good Evening\n",
            "Good Morning\n",
            "['12', '34']\n",
            "34\n",
            "This dictionary contains 5 values.\n"
          ]
        }
      ]
    },
    {
      "cell_type": "code",
      "source": [
        "#List Generators and Comprehension\n",
        "varlist = [1,2,3,4,5]\n",
        "print(varlist)\n",
        "\n",
        "varlist = [3,2,5]\n",
        "print([var for var in varlist])\n",
        "\n",
        "def gen_num_up_to (n):\n",
        "  num = 0\n",
        "  while num < n:\n",
        "      yield num\n",
        "      num += 2\n",
        "\n",
        "varlist = gen_num_up_to(5)\n",
        "print([var for var in varlist])"
      ],
      "metadata": {
        "colab": {
          "base_uri": "https://localhost:8080/"
        },
        "id": "Tv9RdqiQY2-V",
        "outputId": "1b3e4171-81ed-4a33-a277-64200a702cf3"
      },
      "execution_count": 49,
      "outputs": [
        {
          "output_type": "stream",
          "name": "stdout",
          "text": [
            "[1, 2, 3, 4, 5]\n",
            "[3, 2, 5]\n",
            "[0, 2, 4]\n"
          ]
        }
      ]
    },
    {
      "cell_type": "code",
      "source": [
        "#Slicing\n",
        "varlist = [1,2,3,4,5,6,7,8,9,10]\n",
        "print(varlist[:3])\n",
        "print(varlist[3:])\n",
        "print(varlist[:-4])\n",
        "print(varlist[-4:])\n",
        "print(varlist[3:-3])\n",
        "print(varlist[3:7:3])"
      ],
      "metadata": {
        "colab": {
          "base_uri": "https://localhost:8080/"
        },
        "id": "MM1o1zrwccrq",
        "outputId": "e9c1dae9-e5cd-41a1-81ed-2856e9657992"
      },
      "execution_count": 51,
      "outputs": [
        {
          "output_type": "stream",
          "name": "stdout",
          "text": [
            "[1, 2, 3]\n",
            "[4, 5, 6, 7, 8, 9, 10]\n",
            "[1, 2, 3, 4, 5, 6]\n",
            "[7, 8, 9, 10]\n",
            "[4, 5, 6, 7]\n",
            "[4, 7]\n"
          ]
        }
      ]
    }
  ]
}