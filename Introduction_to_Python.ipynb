{
  "nbformat": 4,
  "nbformat_minor": 0,
  "metadata": {
    "colab": {
      "provenance": [],
      "authorship_tag": "ABX9TyOBZb/LfTo03NwLRPMJcsGS",
      "include_colab_link": true
    },
    "kernelspec": {
      "name": "python3",
      "display_name": "Python 3"
    },
    "language_info": {
      "name": "python"
    }
  },
  "cells": [
    {
      "cell_type": "markdown",
      "metadata": {
        "id": "view-in-github",
        "colab_type": "text"
      },
      "source": [
        "<a href=\"https://colab.research.google.com/github/JohnMartiiinnnn/CPE-21A-PLD-1-1/blob/main/Introduction_to_Python.ipynb\" target=\"_parent\"><img src=\"https://colab.research.google.com/assets/colab-badge.svg\" alt=\"Open In Colab\"/></a>"
      ]
    },
    {
      "cell_type": "markdown",
      "source": [
        "###Indentation"
      ],
      "metadata": {
        "id": "Av5EQ--ASCRQ"
      }
    },
    {
      "cell_type": "code",
      "source": [
        "if 10>5:\n",
        "  print(\"10 is greater than 5\")"
      ],
      "metadata": {
        "colab": {
          "base_uri": "https://localhost:8080/"
        },
        "id": "jL96OQYMUAYo",
        "outputId": "62ff527d-9385-4f29-ede9-02bbec006ba0"
      },
      "execution_count": null,
      "outputs": [
        {
          "output_type": "stream",
          "name": "stdout",
          "text": [
            "10 is greater than 5\n"
          ]
        }
      ]
    },
    {
      "cell_type": "markdown",
      "source": [
        "###Variable Declaration"
      ],
      "metadata": {
        "id": "l380ejkOV5rk"
      }
    },
    {
      "cell_type": "code",
      "source": [
        "#variable with a single value\n",
        "\n",
        "x=13\n",
        "y=7\n",
        "if x>y:\n",
        "  print(\"x is greater than y\")\n",
        "else:\n",
        "  print(\"y is greater than x\")\n",
        "\n",
        "#variable with multiple values\n",
        "a,b = 1,2\n",
        "print(\"The value of a is:\",a)\n",
        "print(\"The value of b is:\",b)\n",
        "\n",
        "#multiple variables with single value\n",
        "\n",
        "q = r = l = \"John Martin\"\n",
        "print(l)\n",
        "print(q)\n",
        "print(r)"
      ],
      "metadata": {
        "colab": {
          "base_uri": "https://localhost:8080/"
        },
        "id": "UxiK_JTiWMxe",
        "outputId": "c71797f6-7f00-422d-ffe0-85a0e7e421ea"
      },
      "execution_count": null,
      "outputs": [
        {
          "output_type": "stream",
          "name": "stdout",
          "text": [
            "x is greater than y\n",
            "The value of a is: 1\n",
            "The value of b is: 2\n",
            "John Martin\n",
            "John Martin\n",
            "John Martin\n"
          ]
        }
      ]
    },
    {
      "cell_type": "markdown",
      "source": [
        "###Casting and Type() function"
      ],
      "metadata": {
        "id": "RNmP_y0WbMEZ"
      }
    },
    {
      "cell_type": "code",
      "source": [
        "f = int(13) #integer\n",
        "g = float (13) #decimal/fractional\n",
        "\n",
        "print(f)\n",
        "print(g)\n",
        "\n",
        "print(type(f))\n",
        "print(type(g))\n"
      ],
      "metadata": {
        "colab": {
          "base_uri": "https://localhost:8080/"
        },
        "id": "6kLNUN_UbL1s",
        "outputId": "09b7efb5-082c-406e-9e9a-94eb5a120b00"
      },
      "execution_count": null,
      "outputs": [
        {
          "output_type": "stream",
          "name": "stdout",
          "text": [
            "13\n",
            "13.0\n",
            "<class 'int'>\n",
            "<class 'float'>\n"
          ]
        }
      ]
    },
    {
      "cell_type": "markdown",
      "source": [
        "###Double quote or Single quote"
      ],
      "metadata": {
        "id": "CGRLhRTDjGdy"
      }
    },
    {
      "cell_type": "code",
      "source": [
        "name = \"Taylor\"\n",
        "name1 = 'Swift'\n",
        "\n",
        "print(name)\n",
        "print(name1)"
      ],
      "metadata": {
        "colab": {
          "base_uri": "https://localhost:8080/"
        },
        "id": "MBzp5vTOjS1F",
        "outputId": "9a99368d-a8fe-4a45-817e-a5ea9322265b"
      },
      "execution_count": null,
      "outputs": [
        {
          "output_type": "stream",
          "name": "stdout",
          "text": [
            "Taylor\n",
            "Swift\n"
          ]
        }
      ]
    },
    {
      "cell_type": "markdown",
      "source": [
        "###Case Sensitive"
      ],
      "metadata": {
        "id": "rJn_GjM4kQ9z"
      }
    },
    {
      "cell_type": "code",
      "source": [
        "a = \"Midnights\"\n",
        "print(a)"
      ],
      "metadata": {
        "colab": {
          "base_uri": "https://localhost:8080/"
        },
        "id": "7xJy1i5CkUkW",
        "outputId": "518d0e14-f619-4207-d9b2-fcfbc6625199"
      },
      "execution_count": null,
      "outputs": [
        {
          "output_type": "stream",
          "name": "stdout",
          "text": [
            "Midnights\n"
          ]
        }
      ]
    },
    {
      "cell_type": "markdown",
      "source": [
        "###Output Value"
      ],
      "metadata": {
        "id": "rr4plzxslCMx"
      }
    },
    {
      "cell_type": "code",
      "source": [
        "p = 'stream '\n",
        "print(p+'midnights')"
      ],
      "metadata": {
        "colab": {
          "base_uri": "https://localhost:8080/"
        },
        "id": "FXLEP8Gqmlcb",
        "outputId": "4310ca74-c4d7-4273-dd45-63acab4395f7"
      },
      "execution_count": null,
      "outputs": [
        {
          "output_type": "stream",
          "name": "stdout",
          "text": [
            "stream midnights\n"
          ]
        }
      ]
    }
  ]
}